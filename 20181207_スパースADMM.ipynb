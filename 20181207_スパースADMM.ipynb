{
 "cells": [
  {
   "cell_type": "code",
   "execution_count": 154,
   "metadata": {},
   "outputs": [
    {
     "data": {
      "image/png": "[encoded data removed]",
      "text/plain": [
       "<Figure size 432x288 with 2 Axes>"
      ]
     },
     "metadata": {},
     "output_type": "display_data"
    },
    {
     "data": {
      "image/png": "[encoded data removed]",
      "text/plain": [
       "<Figure size 432x288 with 2 Axes>"
      ]
     },
     "metadata": {},
     "output_type": "display_data"
    }
   ],
   "source": [
    "import numpy as np\n",
    "from PIL import Image\n",
    "import matplotlib.pyplot as plt\n",
    "import random\n",
    "\n",
    "original = np.array([\n",
    "                    [0,0,0,0],\n",
    "                    [0,0,0,0],\n",
    "                    [0,0,0,0],\n",
    "                    [0,0,0,0]\n",
    "],dtype = np.float64)\n",
    "#print(\"I=\"+str(I))\n",
    "\n",
    "plt.title(\"4×4＿オリジナル\")\n",
    "plt.imshow(original, cmap = 'gray', vmin = 0, vmax = 1, interpolation = 'none')\n",
    "plt.colorbar()\n",
    "#plt.savefig('4×4＿オリジナル.png')\n",
    "plt.show()\n",
    "\n",
    "size = original.shape\n",
    "L = 16\n",
    "pix = np.zeros((L, L))\n",
    "i = L / size[0]\n",
    "\n",
    "for n in range (0, size[0]):\n",
    "    for m in range (0, size[0]):\n",
    "        for a in range (0,int(i)):\n",
    "            x = int(i) * n + a\n",
    "            for b in range (0,int(i)):\n",
    "                y = int(i) * m + b\n",
    "               #print('n:', n, 'm:', m, 'a:', a, 'b:', b, ',x:', x, 'y:', y)\n",
    "                pix[x][y] = original[n][m]\n",
    "\n",
    "                \n",
    "original=pix\n",
    "plt.imshow(original, cmap = 'gray')\n",
    "plt.title('16×16＿オリジナル')\n",
    "plt.colorbar()\n",
    "plt.show()   \n",
    "                \n",
    "                "
   ]
  },
  {
   "cell_type": "code",
   "execution_count": 152,
   "metadata": {},
   "outputs": [
    {
     "data": {
      "image/png": "[encoded data removed]",
      "text/plain": [
       "<Figure size 432x288 with 2 Axes>"
      ]
     },
     "metadata": {},
     "output_type": "display_data"
    }
   ],
   "source": [
    "import numpy as np\n",
    "from PIL import Image\n",
    "import matplotlib.pyplot as plt\n",
    "import random\n",
    "#4×4のイメージIの作成\n",
    "original = np.array([\n",
    "                    [0,0,0,0,0,0,0,0,0,0,0,0,0,0,0,0],\n",
    "                    [0,0,0,0,0,0,0,0,0,0,0,0,0,0,0,0],\n",
    "                    [0,0,0,0,0,0,0,0,0,0,0,0,0,0,0,0],\n",
    "                    [0,0,0,0,0,0,0,0,0,0,0,0,0,0,0,0],\n",
    "                    [0,0,0,0,0,0,0,0,0,0,0,0,0,0,0,0],\n",
    "                    [0,0,0,0,0,0,0,0,0,0,0,0,0,0,0,0],\n",
    "                    [0,0,0,0,0,0,1,1,1,1,0,0,0,0,0,0],\n",
    "                    [0,0,0,0,0,0,1,1,1,1,0,0,0,0,0,0],\n",
    "                    [0,0,0,0,0,0,1,1,1,1,0,0,0,0,0,0],\n",
    "                    [0,0,0,0,0,0,1,1,1,1,0,0,0,0,0,0],\n",
    "                    [0,0,0,0,0,0,0,0,0,0,0,0,0,0,0,0],\n",
    "                    [0,0,0,0,0,0,0,0,0,0,0,0,0,0,0,0],\n",
    "                    [0,0,0,0,0,0,0,0,0,0,0,0,0,0,0,0],\n",
    "                    [0,0,0,0,0,0,0,0,0,0,0,0,0,0,0,0],\n",
    "                    [0,0,0,0,0,0,0,0,0,0,0,0,0,0,0,0],\n",
    "                    [0,0,0,0,0,0,0,0,0,0,0,0,0,0,0,0],\n",
    "\n",
    "],dtype = np.float64)\n",
    "#print(\"I=\"+str(I))\n",
    "plt.title('16×16＿オリジナル2')\n",
    "plt.imshow(original, cmap = 'gray', interpolation = 'none')\n",
    "plt.colorbar()\n",
    "#plt.savefig('16×16オリジナル2.png')\n",
    "plt.show()"
   ]
  },
  {
   "cell_type": "code",
   "execution_count": null,
   "metadata": {},
   "outputs": [],
   "source": []
  },
  {
   "cell_type": "code",
   "execution_count": 155,
   "metadata": {},
   "outputs": [
    {
     "name": "stdout",
     "output_type": "stream",
     "text": [
      "(150, 256)\n"
     ]
    }
   ],
   "source": [
    "x0=np.reshape(original,(256,1))\n",
    "#print(x0)\n",
    "\n",
    "\n",
    "pat=[]\n",
    "M=150\n",
    "for i in range(0,M):\n",
    "    a=np.random.randint(0,5,(16,16))\n",
    "    a=a/4\n",
    "    pat.append(a)\n",
    "    \n",
    "    \n",
    "\n",
    "S=pat*original\n",
    "S_sum_yoko=np.sum(S, axis=2)\n",
    "S_sum=np.sum(S_sum_yoko,axis=1)\n",
    "#S_sum_av=np.average(S_sum)\n",
    "\n",
    "\n",
    "A=np.reshape(pat,(M,256))#観測行列（パターン）\n",
    "\n",
    "y=np.reshape(S_sum,(M,1))\n",
    "\n",
    "N=256#16*16\n",
    "#K=32\n",
    "print(A.shape)\n"
   ]
  },
  {
   "cell_type": "code",
   "execution_count": 167,
   "metadata": {},
   "outputs": [
    {
     "name": "stdout",
     "output_type": "stream",
     "text": [
      "[[0.5  0.   0.25 ... 0.   1.   0.25]\n",
      " [0.   0.5  0.5  ... 0.75 0.5  0.75]\n",
      " [0.75 1.   1.   ... 1.   0.75 0.5 ]\n",
      " ...\n",
      " [0.25 1.   0.25 ... 0.25 0.25 1.  ]\n",
      " [0.25 0.   0.5  ... 0.25 0.25 0.75]\n",
      " [0.   0.75 1.   ... 0.25 0.   0.75]]\n"
     ]
    }
   ],
   "source": [
    "#np.savetxt(\"AAAAAAA.csv\",A)\n",
    "print(A)"
   ]
  },
  {
   "cell_type": "code",
   "execution_count": 166,
   "metadata": {},
   "outputs": [],
   "source": [
    "x=np.zeros((N,1))\n",
    "z=np.zeros((N,1))\n",
    "u=np.zeros((N,1))\n",
    "\n",
    "mu=1\n",
    "\n"
   ]
  },
  {
   "cell_type": "code",
   "execution_count": 157,
   "metadata": {},
   "outputs": [],
   "source": [
    "A1=np.dot(A.T,(np.linalg.inv(np.dot(A,A.T))))\n",
    "A2=np.eye(N,N)-np.dot(A1,A)\n"
   ]
  },
  {
   "cell_type": "code",
   "execution_count": null,
   "metadata": {},
   "outputs": [],
   "source": []
  },
  {
   "cell_type": "code",
   "execution_count": 158,
   "metadata": {},
   "outputs": [],
   "source": [
    "def SoftThr(a,b):\n",
    "    c=np.zeros(a.shape)\n",
    "    d=np.where(a>b)\n",
    "    c[d]=a[d]-b\n",
    "    d=np.where(a<-b)\n",
    "    c[d]=a[d]+b\n",
    "    return c\n"
   ]
  },
  {
   "cell_type": "code",
   "execution_count": 159,
   "metadata": {},
   "outputs": [],
   "source": [
    "for t in range(0,50):\n",
    "    \n",
    "    \n",
    "    x=np.dot(A1,y)+np.dot(A2,(z-u))\n",
    "    z=SoftThr(x+u,1/mu)\n",
    "    u=u+x-z\n",
    "    \n",
    "    \n",
    "    "
   ]
  },
  {
   "cell_type": "code",
   "execution_count": 161,
   "metadata": {},
   "outputs": [
    {
     "name": "stdout",
     "output_type": "stream",
     "text": [
      "[[ 1.06939008e-04]\n",
      " [-7.41457374e-05]\n",
      " [-5.51415828e-04]\n",
      " [ 4.09303812e-04]\n",
      " [ 2.70593310e-04]\n",
      " [ 9.83694862e-05]\n",
      " [ 2.52024453e-04]\n",
      " [ 2.23291677e-04]\n",
      " [ 1.69427020e-04]\n",
      " [-2.92272319e-04]\n",
      " [ 9.15825801e-05]\n",
      " [-6.29210406e-04]\n",
      " [-2.80808707e-04]\n",
      " [ 4.65424336e-04]\n",
      " [-8.57943354e-04]\n",
      " [ 5.82505922e-04]\n",
      " [ 8.13569766e-05]\n",
      " [-4.56757528e-05]\n",
      " [-4.09817619e-05]\n",
      " [-3.28180995e-04]\n",
      " [ 4.77799642e-04]\n",
      " [-1.89806476e-04]\n",
      " [-5.48175302e-05]\n",
      " [-8.55434377e-04]\n",
      " [ 1.65298515e-04]\n",
      " [-1.55649015e-04]\n",
      " [ 1.08967168e-05]\n",
      " [ 1.84517322e-04]\n",
      " [-6.49740269e-04]\n",
      " [ 2.61788410e-06]\n",
      " [ 3.30878954e-05]\n",
      " [ 3.08430101e-04]\n",
      " [ 1.94232508e-04]\n",
      " [ 2.87751809e-04]\n",
      " [ 7.65332305e-06]\n",
      " [ 4.35720129e-04]\n",
      " [-6.88648563e-04]\n",
      " [-1.07775428e-04]\n",
      " [-1.18023617e-04]\n",
      " [-2.19974508e-04]\n",
      " [-8.35905678e-04]\n",
      " [-1.64330964e-04]\n",
      " [ 3.46842875e-04]\n",
      " [ 5.59547133e-05]\n",
      " [-2.32602201e-05]\n",
      " [-8.55902711e-04]\n",
      " [-1.63602066e-04]\n",
      " [-8.63273061e-05]\n",
      " [ 5.17471751e-04]\n",
      " [-1.59661686e-04]\n",
      " [ 5.83401826e-04]\n",
      " [ 2.07439081e-05]\n",
      " [-5.40835508e-04]\n",
      " [-2.68301369e-04]\n",
      " [ 1.28646684e-03]\n",
      " [-8.53909406e-04]\n",
      " [-5.59659492e-04]\n",
      " [-1.36503235e-05]\n",
      " [-2.86869321e-05]\n",
      " [-1.29114868e-03]\n",
      " [-6.30499182e-04]\n",
      " [-4.73556724e-05]\n",
      " [ 1.87258421e-04]\n",
      " [-1.88905324e-04]\n",
      " [-5.47416752e-04]\n",
      " [-1.15099471e-03]\n",
      " [-5.40614244e-04]\n",
      " [-1.96708925e-04]\n",
      " [ 1.00223947e+00]\n",
      " [ 9.97703513e-01]\n",
      " [ 1.00225332e+00]\n",
      " [ 1.00215819e+00]\n",
      " [ 9.99343163e-01]\n",
      " [ 1.00145709e+00]\n",
      " [ 9.99577750e-01]\n",
      " [ 1.00425784e+00]\n",
      " [-2.26127981e-05]\n",
      " [ 2.71486115e-05]\n",
      " [-1.32244742e-04]\n",
      " [ 2.55451639e-05]\n",
      " [-3.99828819e-06]\n",
      " [-6.72893542e-05]\n",
      " [ 3.39421873e-04]\n",
      " [-1.16893355e-05]\n",
      " [ 1.00127660e+00]\n",
      " [ 1.00074087e+00]\n",
      " [ 1.00071933e+00]\n",
      " [ 9.99070215e-01]\n",
      " [ 1.00181063e+00]\n",
      " [ 9.98899513e-01]\n",
      " [ 9.99523874e-01]\n",
      " [ 1.00126922e+00]\n",
      " [ 5.62190602e-04]\n",
      " [-3.96943349e-04]\n",
      " [-1.79447844e-04]\n",
      " [ 4.25968908e-04]\n",
      " [-2.62190702e-04]\n",
      " [ 2.96459364e-04]\n",
      " [ 7.54771119e-04]\n",
      " [-2.82763436e-05]\n",
      " [ 1.00046846e+00]\n",
      " [ 1.00017901e+00]\n",
      " [ 9.99707072e-01]\n",
      " [ 9.98303911e-01]\n",
      " [ 9.98770741e-01]\n",
      " [ 9.98007477e-01]\n",
      " [ 9.97925298e-01]\n",
      " [ 9.98517734e-01]\n",
      " [ 4.10013508e-04]\n",
      " [-1.88278638e-04]\n",
      " [-1.52735929e-04]\n",
      " [ 1.82878006e-04]\n",
      " [ 3.58432291e-04]\n",
      " [-5.15535263e-04]\n",
      " [ 6.73315664e-04]\n",
      " [ 2.13131150e-04]\n",
      " [ 9.97494287e-01]\n",
      " [ 9.97801827e-01]\n",
      " [ 9.96870136e-01]\n",
      " [ 1.00059758e+00]\n",
      " [ 1.00070815e+00]\n",
      " [ 1.00066918e+00]\n",
      " [ 1.00033652e+00]\n",
      " [ 9.96815681e-01]\n",
      " [-4.67265211e-04]\n",
      " [-6.17730904e-05]\n",
      " [-5.10243629e-04]\n",
      " [ 9.94474932e-04]\n",
      " [ 9.53650019e-04]\n",
      " [-1.31330099e-04]\n",
      " [ 1.22371725e-04]\n",
      " [-2.72314400e-04]\n",
      " [ 1.00271554e+00]\n",
      " [ 1.00353252e+00]\n",
      " [ 1.00002481e+00]\n",
      " [ 9.98117147e-01]\n",
      " [ 9.98345544e-01]\n",
      " [ 9.97501100e-01]\n",
      " [ 9.99947820e-01]\n",
      " [ 1.00011409e+00]\n",
      " [ 5.76057069e-04]\n",
      " [-2.04102300e-04]\n",
      " [-3.98393270e-06]\n",
      " [-6.00123247e-05]\n",
      " [-1.59498425e-04]\n",
      " [-2.70541756e-04]\n",
      " [ 1.64478970e-04]\n",
      " [-4.98597242e-04]\n",
      " [ 9.99926596e-01]\n",
      " [ 9.97476477e-01]\n",
      " [ 1.00070119e+00]\n",
      " [ 1.00127706e+00]\n",
      " [ 1.00063396e+00]\n",
      " [ 1.00307248e+00]\n",
      " [ 1.00040153e+00]\n",
      " [ 9.99900672e-01]\n",
      " [ 1.04802236e-04]\n",
      " [-5.89193200e-04]\n",
      " [-7.73864155e-04]\n",
      " [-9.77132605e-05]\n",
      " [-5.13163772e-04]\n",
      " [-3.80615577e-04]\n",
      " [ 1.28448843e-04]\n",
      " [ 1.84772011e-04]\n",
      " [ 1.00153123e+00]\n",
      " [ 1.00385371e+00]\n",
      " [ 9.99419706e-01]\n",
      " [ 1.00202119e+00]\n",
      " [ 9.98741631e-01]\n",
      " [ 9.98843247e-01]\n",
      " [ 9.98825430e-01]\n",
      " [ 1.00032790e+00]\n",
      " [-1.60798708e-04]\n",
      " [ 6.67704932e-04]\n",
      " [-1.07372945e-04]\n",
      " [ 3.85458942e-04]\n",
      " [-4.71068555e-04]\n",
      " [-1.33007306e-04]\n",
      " [ 3.54151021e-04]\n",
      " [-3.57383605e-04]\n",
      " [ 1.00106256e+00]\n",
      " [ 1.00084106e+00]\n",
      " [ 1.00277890e+00]\n",
      " [ 9.97992983e-01]\n",
      " [ 9.97772751e-01]\n",
      " [ 9.98738060e-01]\n",
      " [ 1.00140532e+00]\n",
      " [ 1.00212929e+00]\n",
      " [ 1.76073327e-04]\n",
      " [-1.58546097e-04]\n",
      " [-2.56609818e-04]\n",
      " [ 4.35590593e-04]\n",
      " [ 4.13172805e-04]\n",
      " [ 4.15382372e-04]\n",
      " [-6.12665285e-04]\n",
      " [ 8.62039144e-06]\n",
      " [ 1.35604811e-05]\n",
      " [-3.65221057e-04]\n",
      " [-1.23844049e-04]\n",
      " [ 1.94475395e-04]\n",
      " [ 5.31853241e-05]\n",
      " [ 2.59986787e-04]\n",
      " [ 3.62232251e-04]\n",
      " [ 1.39960583e-04]\n",
      " [-7.02119597e-05]\n",
      " [-1.66831792e-05]\n",
      " [ 5.17732289e-04]\n",
      " [ 1.34288194e-04]\n",
      " [-5.80720123e-04]\n",
      " [-1.63366201e-04]\n",
      " [-1.81533013e-04]\n",
      " [-2.36008257e-05]\n",
      " [-1.25706862e-04]\n",
      " [-1.49094542e-04]\n",
      " [ 2.97057584e-04]\n",
      " [-2.23512559e-04]\n",
      " [ 4.21480865e-04]\n",
      " [ 5.66881811e-04]\n",
      " [-4.53411223e-06]\n",
      " [-4.27231295e-04]\n",
      " [-7.16483530e-04]\n",
      " [ 1.11387064e-04]\n",
      " [ 7.17477838e-05]\n",
      " [ 1.58556090e-04]\n",
      " [ 2.30403887e-04]\n",
      " [-3.45085956e-04]\n",
      " [-1.03446514e-04]\n",
      " [-4.24172059e-04]\n",
      " [ 1.64628534e-05]\n",
      " [-1.06854726e-04]\n",
      " [-5.77201115e-05]\n",
      " [-5.39878985e-04]\n",
      " [ 9.88234684e-05]\n",
      " [ 1.71181577e-04]\n",
      " [ 9.24972660e-04]\n",
      " [ 5.52148047e-04]\n",
      " [-7.30762202e-05]\n",
      " [ 4.46881155e-04]\n",
      " [-3.39709826e-04]\n",
      " [-6.47634146e-04]\n",
      " [ 2.84535640e-04]\n",
      " [ 2.98541227e-05]\n",
      " [-3.94811509e-04]\n",
      " [ 2.88823406e-04]\n",
      " [ 5.47067900e-04]\n",
      " [-1.04375096e-04]\n",
      " [-9.50095227e-04]\n",
      " [ 3.64449193e-04]\n",
      " [ 3.98930351e-04]\n",
      " [ 8.94128153e-04]\n",
      " [-1.36805771e-04]\n",
      " [-2.19365653e-04]\n",
      " [ 8.86353505e-06]\n",
      " [-3.10404459e-04]\n",
      " [ 9.57457740e-05]\n",
      " [-5.68250367e-04]]\n"
     ]
    }
   ],
   "source": [
    "print(x)"
   ]
  },
  {
   "cell_type": "code",
   "execution_count": 142,
   "metadata": {},
   "outputs": [
    {
     "ename": "ValueError",
     "evalue": "cannot reshape array of size 1 into shape (16,16)",
     "output_type": "error",
     "traceback": [
      "\u001b[1;31m---------------------------------------------------------------------------\u001b[0m",
      "\u001b[1;31mAttributeError\u001b[0m                            Traceback (most recent call last)",
      "\u001b[1;32m~\\Python_anaconda\\lib\\site-packages\\numpy\\core\\fromnumeric.py\u001b[0m in \u001b[0;36m_wrapfunc\u001b[1;34m(obj, method, *args, **kwds)\u001b[0m\n\u001b[0;32m     51\u001b[0m     \u001b[1;32mtry\u001b[0m\u001b[1;33m:\u001b[0m\u001b[1;33m\u001b[0m\u001b[0m\n\u001b[1;32m---> 52\u001b[1;33m         \u001b[1;32mreturn\u001b[0m \u001b[0mgetattr\u001b[0m\u001b[1;33m(\u001b[0m\u001b[0mobj\u001b[0m\u001b[1;33m,\u001b[0m \u001b[0mmethod\u001b[0m\u001b[1;33m)\u001b[0m\u001b[1;33m(\u001b[0m\u001b[1;33m*\u001b[0m\u001b[0margs\u001b[0m\u001b[1;33m,\u001b[0m \u001b[1;33m**\u001b[0m\u001b[0mkwds\u001b[0m\u001b[1;33m)\u001b[0m\u001b[1;33m\u001b[0m\u001b[0m\n\u001b[0m\u001b[0;32m     53\u001b[0m \u001b[1;33m\u001b[0m\u001b[0m\n",
      "\u001b[1;31mAttributeError\u001b[0m: 'int' object has no attribute 'reshape'",
      "\nDuring handling of the above exception, another exception occurred:\n",
      "\u001b[1;31mValueError\u001b[0m                                Traceback (most recent call last)",
      "\u001b[1;32m<ipython-input-142-2ba79ecd5741>\u001b[0m in \u001b[0;36m<module>\u001b[1;34m()\u001b[0m\n\u001b[1;32m----> 1\u001b[1;33m \u001b[0mx\u001b[0m\u001b[1;33m=\u001b[0m\u001b[0mnp\u001b[0m\u001b[1;33m.\u001b[0m\u001b[0mreshape\u001b[0m\u001b[1;33m(\u001b[0m\u001b[0mx\u001b[0m\u001b[1;33m,\u001b[0m\u001b[1;33m(\u001b[0m\u001b[1;36m16\u001b[0m\u001b[1;33m,\u001b[0m\u001b[1;36m16\u001b[0m\u001b[1;33m)\u001b[0m\u001b[1;33m)\u001b[0m\u001b[1;33m\u001b[0m\u001b[0m\n\u001b[0m\u001b[0;32m      2\u001b[0m \u001b[1;33m\u001b[0m\u001b[0m\n\u001b[0;32m      3\u001b[0m \u001b[0mplt\u001b[0m\u001b[1;33m.\u001b[0m\u001b[0mimshow\u001b[0m\u001b[1;33m(\u001b[0m\u001b[0mx\u001b[0m\u001b[1;33m,\u001b[0m \u001b[0mcmap\u001b[0m \u001b[1;33m=\u001b[0m \u001b[1;34m'gray'\u001b[0m\u001b[1;33m)\u001b[0m\u001b[1;33m\u001b[0m\u001b[0m\n\u001b[0;32m      4\u001b[0m \u001b[0mplt\u001b[0m\u001b[1;33m.\u001b[0m\u001b[0mtitle\u001b[0m\u001b[1;33m(\u001b[0m\u001b[1;34m'16×16_ADMM_スパース_%dパターン'\u001b[0m\u001b[1;33m%\u001b[0m\u001b[0mM\u001b[0m\u001b[1;33m)\u001b[0m\u001b[1;33m\u001b[0m\u001b[0m\n\u001b[0;32m      5\u001b[0m \u001b[0mplt\u001b[0m\u001b[1;33m.\u001b[0m\u001b[0mcolorbar\u001b[0m\u001b[1;33m(\u001b[0m\u001b[1;33m)\u001b[0m\u001b[1;33m\u001b[0m\u001b[0m\n",
      "\u001b[1;32m~\\Python_anaconda\\lib\\site-packages\\numpy\\core\\fromnumeric.py\u001b[0m in \u001b[0;36mreshape\u001b[1;34m(a, newshape, order)\u001b[0m\n\u001b[0;32m    255\u001b[0m            [5, 6]])\n\u001b[0;32m    256\u001b[0m     \"\"\"\n\u001b[1;32m--> 257\u001b[1;33m     \u001b[1;32mreturn\u001b[0m \u001b[0m_wrapfunc\u001b[0m\u001b[1;33m(\u001b[0m\u001b[0ma\u001b[0m\u001b[1;33m,\u001b[0m \u001b[1;34m'reshape'\u001b[0m\u001b[1;33m,\u001b[0m \u001b[0mnewshape\u001b[0m\u001b[1;33m,\u001b[0m \u001b[0morder\u001b[0m\u001b[1;33m=\u001b[0m\u001b[0morder\u001b[0m\u001b[1;33m)\u001b[0m\u001b[1;33m\u001b[0m\u001b[0m\n\u001b[0m\u001b[0;32m    258\u001b[0m \u001b[1;33m\u001b[0m\u001b[0m\n\u001b[0;32m    259\u001b[0m \u001b[1;33m\u001b[0m\u001b[0m\n",
      "\u001b[1;32m~\\Python_anaconda\\lib\\site-packages\\numpy\\core\\fromnumeric.py\u001b[0m in \u001b[0;36m_wrapfunc\u001b[1;34m(obj, method, *args, **kwds)\u001b[0m\n\u001b[0;32m     60\u001b[0m     \u001b[1;31m# a downstream library like 'pandas'.\u001b[0m\u001b[1;33m\u001b[0m\u001b[1;33m\u001b[0m\u001b[0m\n\u001b[0;32m     61\u001b[0m     \u001b[1;32mexcept\u001b[0m \u001b[1;33m(\u001b[0m\u001b[0mAttributeError\u001b[0m\u001b[1;33m,\u001b[0m \u001b[0mTypeError\u001b[0m\u001b[1;33m)\u001b[0m\u001b[1;33m:\u001b[0m\u001b[1;33m\u001b[0m\u001b[0m\n\u001b[1;32m---> 62\u001b[1;33m         \u001b[1;32mreturn\u001b[0m \u001b[0m_wrapit\u001b[0m\u001b[1;33m(\u001b[0m\u001b[0mobj\u001b[0m\u001b[1;33m,\u001b[0m \u001b[0mmethod\u001b[0m\u001b[1;33m,\u001b[0m \u001b[1;33m*\u001b[0m\u001b[0margs\u001b[0m\u001b[1;33m,\u001b[0m \u001b[1;33m**\u001b[0m\u001b[0mkwds\u001b[0m\u001b[1;33m)\u001b[0m\u001b[1;33m\u001b[0m\u001b[0m\n\u001b[0m\u001b[0;32m     63\u001b[0m \u001b[1;33m\u001b[0m\u001b[0m\n\u001b[0;32m     64\u001b[0m \u001b[1;33m\u001b[0m\u001b[0m\n",
      "\u001b[1;32m~\\Python_anaconda\\lib\\site-packages\\numpy\\core\\fromnumeric.py\u001b[0m in \u001b[0;36m_wrapit\u001b[1;34m(obj, method, *args, **kwds)\u001b[0m\n\u001b[0;32m     40\u001b[0m     \u001b[1;32mexcept\u001b[0m \u001b[0mAttributeError\u001b[0m\u001b[1;33m:\u001b[0m\u001b[1;33m\u001b[0m\u001b[0m\n\u001b[0;32m     41\u001b[0m         \u001b[0mwrap\u001b[0m \u001b[1;33m=\u001b[0m \u001b[1;32mNone\u001b[0m\u001b[1;33m\u001b[0m\u001b[0m\n\u001b[1;32m---> 42\u001b[1;33m     \u001b[0mresult\u001b[0m \u001b[1;33m=\u001b[0m \u001b[0mgetattr\u001b[0m\u001b[1;33m(\u001b[0m\u001b[0masarray\u001b[0m\u001b[1;33m(\u001b[0m\u001b[0mobj\u001b[0m\u001b[1;33m)\u001b[0m\u001b[1;33m,\u001b[0m \u001b[0mmethod\u001b[0m\u001b[1;33m)\u001b[0m\u001b[1;33m(\u001b[0m\u001b[1;33m*\u001b[0m\u001b[0margs\u001b[0m\u001b[1;33m,\u001b[0m \u001b[1;33m**\u001b[0m\u001b[0mkwds\u001b[0m\u001b[1;33m)\u001b[0m\u001b[1;33m\u001b[0m\u001b[0m\n\u001b[0m\u001b[0;32m     43\u001b[0m     \u001b[1;32mif\u001b[0m \u001b[0mwrap\u001b[0m\u001b[1;33m:\u001b[0m\u001b[1;33m\u001b[0m\u001b[0m\n\u001b[0;32m     44\u001b[0m         \u001b[1;32mif\u001b[0m \u001b[1;32mnot\u001b[0m \u001b[0misinstance\u001b[0m\u001b[1;33m(\u001b[0m\u001b[0mresult\u001b[0m\u001b[1;33m,\u001b[0m \u001b[0mmu\u001b[0m\u001b[1;33m.\u001b[0m\u001b[0mndarray\u001b[0m\u001b[1;33m)\u001b[0m\u001b[1;33m:\u001b[0m\u001b[1;33m\u001b[0m\u001b[0m\n",
      "\u001b[1;31mValueError\u001b[0m: cannot reshape array of size 1 into shape (16,16)"
     ]
    }
   ],
   "source": [
    "x=np.reshape(x,(16,16))\n",
    "\n",
    "plt.imshow(x, cmap = 'gray')\n",
    "plt.title('16×16_ADMM_スパース_%dパターン'%M)\n",
    "plt.colorbar()\n",
    "#plt.savefig('16×16_ISTAスパース＿%dパターン.png'%M)\n",
    "plt.show()   "
   ]
  },
  {
   "cell_type": "code",
   "execution_count": 143,
   "metadata": {
    "scrolled": true
   },
   "outputs": [],
   "source": [
    "S_sum=[]\n",
    "number=100\n",
    "for k in range(0,number):\n",
    "    pat=np.genfromtxt('C:/Users/student/Python_anaconda/imaging/20181210_オンオフさせたい/パターン保存用/パターン16×16（t=%d）.csv'%k,delimiter=\",\", skip_header=0, dtype='float')\n",
    "    S=pat*original\n",
    "    SS=S.sum()\n",
    "    S_sum.append(SS)\n",
    "    pat=np.reshape(pat,(1,256))\n",
    "    A=np.concatenate((A,pat), axis = 0) \n",
    "\n",
    "#print(A)\n",
    "#print(S_sum)\n",
    "\n",
    "y=np.reshape(S_sum,(number))\n",
    "#print(y)"
   ]
  },
  {
   "cell_type": "code",
   "execution_count": 144,
   "metadata": {},
   "outputs": [],
   "source": [
    "x=np.zeros((N,1))\n",
    "z=np.zeros((N,1))\n",
    "u=np.zeros((N,1))\n",
    "\n",
    "mu=1\n"
   ]
  },
  {
   "cell_type": "code",
   "execution_count": 145,
   "metadata": {},
   "outputs": [
    {
     "name": "stdout",
     "output_type": "stream",
     "text": [
      "[[2.50000000e-01 5.00000000e-01 1.00000000e+00 ... 1.00000000e+00\n",
      "  0.00000000e+00 2.50000000e-01]\n",
      " [7.50000000e-01 2.50000000e-01 7.50000000e-01 ... 2.50000000e-01\n",
      "  7.50000000e-01 0.00000000e+00]\n",
      " [2.50000000e-01 7.50000000e-01 2.50000000e-01 ... 1.00000000e+00\n",
      "  7.50000000e-01 5.00000000e-01]\n",
      " ...\n",
      " [2.89509818e+03 8.31653808e+02 2.94514282e+03 ... 9.41867224e+03\n",
      "  3.06787982e+03 1.20359536e+03]\n",
      " [4.96953217e+02 1.11280719e+03 7.04099092e+02 ... 1.00842548e+04\n",
      "  1.10258441e+04 1.90624832e+03]\n",
      " [1.44529506e+03 2.48778873e+03 7.98032283e+02 ... 8.87274106e+03\n",
      "  1.65971347e+04 7.06992840e+03]]\n"
     ]
    }
   ],
   "source": [
    "print(A)"
   ]
  },
  {
   "cell_type": "code",
   "execution_count": null,
   "metadata": {},
   "outputs": [],
   "source": []
  },
  {
   "cell_type": "code",
   "execution_count": 146,
   "metadata": {},
   "outputs": [],
   "source": [
    "A1=np.dot(A.T,(np.linalg.inv(np.dot(A,A.T))))\n",
    "A2=np.eye(N,N)-np.dot(A1,A)\n"
   ]
  },
  {
   "cell_type": "code",
   "execution_count": 147,
   "metadata": {},
   "outputs": [],
   "source": [
    "def SoftThr(a,b):\n",
    "    c=np.zeros(a.shape)\n",
    "    d=np.where(a>b)\n",
    "    c[d]=a[d]-b\n",
    "    d=np.where(a<-b)\n",
    "    c[d]=a[d]+b\n",
    "    return c\n"
   ]
  },
  {
   "cell_type": "code",
   "execution_count": 148,
   "metadata": {},
   "outputs": [
    {
     "ename": "ValueError",
     "evalue": "shapes (256,250) and (100,) not aligned: 250 (dim 1) != 100 (dim 0)",
     "output_type": "error",
     "traceback": [
      "\u001b[1;31m---------------------------------------------------------------------------\u001b[0m",
      "\u001b[1;31mValueError\u001b[0m                                Traceback (most recent call last)",
      "\u001b[1;32m<ipython-input-148-5614ec871baa>\u001b[0m in \u001b[0;36m<module>\u001b[1;34m()\u001b[0m\n\u001b[0;32m      2\u001b[0m \u001b[1;33m\u001b[0m\u001b[0m\n\u001b[0;32m      3\u001b[0m \u001b[1;33m\u001b[0m\u001b[0m\n\u001b[1;32m----> 4\u001b[1;33m     \u001b[0mx\u001b[0m\u001b[1;33m=\u001b[0m\u001b[0mnp\u001b[0m\u001b[1;33m.\u001b[0m\u001b[0mdot\u001b[0m\u001b[1;33m(\u001b[0m\u001b[0mA1\u001b[0m\u001b[1;33m,\u001b[0m\u001b[0my\u001b[0m\u001b[1;33m)\u001b[0m\u001b[1;33m+\u001b[0m\u001b[0mnp\u001b[0m\u001b[1;33m.\u001b[0m\u001b[0mdot\u001b[0m\u001b[1;33m(\u001b[0m\u001b[0mA2\u001b[0m\u001b[1;33m,\u001b[0m\u001b[1;33m(\u001b[0m\u001b[0mz\u001b[0m\u001b[1;33m-\u001b[0m\u001b[0mu\u001b[0m\u001b[1;33m)\u001b[0m\u001b[1;33m)\u001b[0m\u001b[1;33m\u001b[0m\u001b[0m\n\u001b[0m\u001b[0;32m      5\u001b[0m     \u001b[0mz\u001b[0m\u001b[1;33m=\u001b[0m\u001b[0mSoftThr\u001b[0m\u001b[1;33m(\u001b[0m\u001b[0mx\u001b[0m\u001b[1;33m+\u001b[0m\u001b[0mu\u001b[0m\u001b[1;33m,\u001b[0m\u001b[1;36m1\u001b[0m\u001b[1;33m/\u001b[0m\u001b[0mmu\u001b[0m\u001b[1;33m)\u001b[0m\u001b[1;33m\u001b[0m\u001b[0m\n\u001b[0;32m      6\u001b[0m     \u001b[0mu\u001b[0m\u001b[1;33m=\u001b[0m\u001b[0mu\u001b[0m\u001b[1;33m+\u001b[0m\u001b[0mx\u001b[0m\u001b[1;33m-\u001b[0m\u001b[0mz\u001b[0m\u001b[1;33m\u001b[0m\u001b[0m\n",
      "\u001b[1;31mValueError\u001b[0m: shapes (256,250) and (100,) not aligned: 250 (dim 1) != 100 (dim 0)"
     ]
    }
   ],
   "source": [
    "for t in range(0,50):\n",
    "    \n",
    "    \n",
    "    x=np.dot(A1,y)+np.dot(A2,(z-u))\n",
    "    z=SoftThr(x+u,1/mu)\n",
    "    u=u+x-z\n",
    "    \n",
    "    "
   ]
  },
  {
   "cell_type": "code",
   "execution_count": null,
   "metadata": {},
   "outputs": [],
   "source": [
    "x=np.reshape(x,(16,16))\n",
    "\n",
    "plt.imshow(x, cmap = 'gray')\n",
    "plt.title('16×16_ADMM_スパース_%dパターン'%number)\n",
    "plt.colorbar()\n",
    "#plt.savefig('16×16_ISTAスパース＿%dパターン.png'%M)\n",
    "plt.show()   "
   ]
  },
  {
   "cell_type": "code",
   "execution_count": null,
   "metadata": {},
   "outputs": [],
   "source": []
  },
  {
   "cell_type": "code",
   "execution_count": null,
   "metadata": {},
   "outputs": [],
   "source": []
  },
  {
   "cell_type": "code",
   "execution_count": null,
   "metadata": {},
   "outputs": [],
   "source": []
  },
  {
   "cell_type": "code",
   "execution_count": null,
   "metadata": {},
   "outputs": [],
   "source": []
  },
  {
   "cell_type": "code",
   "execution_count": 249,
   "metadata": {},
   "outputs": [],
   "source": [
    "S=pattern*I\n",
    "S_sum_yoko=np.sum(S, axis=2)\n",
    "S_sum=np.sum(S_sum_yoko,axis=1)\n",
    "#S_sum_av=np.average(S_sum)"
   ]
  },
  {
   "cell_type": "code",
   "execution_count": null,
   "metadata": {},
   "outputs": [],
   "source": []
  },
  {
   "cell_type": "code",
   "execution_count": 208,
   "metadata": {},
   "outputs": [
    {
     "name": "stdout",
     "output_type": "stream",
     "text": [
      "|            Variable Name|    Memory|\n",
      " ------------------------------------ \n",
      "|                        A|        56|\n",
      "|                       A1|   2048056|\n",
      "|                       A2|    524344|\n",
      "|                    Image|        44|\n",
      "|                       In|       968|\n",
      "|                        K|        14|\n",
      "|                        L|        14|\n",
      "|                        M|        14|\n",
      "|                        N|        14|\n",
      "|                      Out|       148|\n",
      "|                        S|  10240064|\n",
      "|                    S_sum|     40048|\n",
      "|                 S_sum_av|        24|\n",
      "|               S_sum_yoko|    640056|\n",
      "|                  SoftThr|        72|\n",
      "|                        a|      2104|\n",
      "|                        b|        14|\n",
      "|                     exit|        32|\n",
      "|              get_ipython|        36|\n",
      "|                        i|        14|\n",
      "|                        m|        14|\n",
      "|                       mu|        16|\n",
      "|                        n|        14|\n",
      "|                       np|        44|\n",
      "|                 original|      2104|\n",
      "|                      pat|     21524|\n",
      "|                      pix|      2104|\n",
      "|                      plt|        44|\n",
      "|                     quit|        32|\n",
      "|                   random|        44|\n",
      "|                     size|        36|\n",
      "|                      sys|        44|\n",
      "|                        t|        14|\n",
      "|                        u|      2104|\n",
      "|                 var_name|        33|\n",
      "|                        x|      2104|\n",
      "|                       x0|        56|\n",
      "|                        y|        56|\n",
      "|                        z|      2104|\n"
     ]
    }
   ],
   "source": [
    "import sys\n",
    "\n",
    "print(\"{}{: >25}{}{: >10}{}\".format('|','Variable Name','|','Memory','|'))\n",
    "print(\" ------------------------------------ \")\n",
    "for var_name in dir():\n",
    "    if not var_name.startswith(\"_\"):\n",
    "        print(\"{}{: >25}{}{: >10}{}\".format('|',var_name,'|',sys.getsizeof(eval(var_name)),'|'))\n"
   ]
  },
  {
   "cell_type": "code",
   "execution_count": 209,
   "metadata": {},
   "outputs": [],
   "source": [
    "del A1\n",
    "del A2\n",
    "del S"
   ]
  },
  {
   "cell_type": "code",
   "execution_count": null,
   "metadata": {},
   "outputs": [],
   "source": []
  },
  {
   "cell_type": "code",
   "execution_count": null,
   "metadata": {},
   "outputs": [],
   "source": []
  },
  {
   "cell_type": "code",
   "execution_count": null,
   "metadata": {},
   "outputs": [],
   "source": []
  }
 ],
 "metadata": {
  "kernelspec": {
   "display_name": "Python 3",
   "language": "python",
   "name": "python3"
  },
  "language_info": {
   "codemirror_mode": {
    "name": "ipython",
    "version": 3
   },
   "file_extension": ".py",
   "mimetype": "text/x-python",
   "name": "python",
   "nbconvert_exporter": "python",
   "pygments_lexer": "ipython3",
   "version": "3.5.5"
  },
  "widgets": {
   "state": {},
   "version": "1.1.2"
  }
 },
 "nbformat": 4,
 "nbformat_minor": 2
}
